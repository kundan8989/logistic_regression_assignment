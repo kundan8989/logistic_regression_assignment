{
 "cells": [
  {
   "cell_type": "markdown",
   "id": "ee6fc815-db64-4cc3-97aa-fc0678348f9e",
   "metadata": {},
   "source": [
    "# Theoretical questions"
   ]
  },
  {
   "cell_type": "markdown",
   "id": "6f5810b5-3ea4-4f37-ab5f-e9ab6ff692b1",
   "metadata": {},
   "source": [
    "### 1.What is Logistic Regression, and how does it differ from Linear Regression.\n",
    "Logistic Regression is a classification algorithm used to predict the probability that a given input belongs to a particular class (often binary: 0 or 1).\n",
    "\n",
    "Purpose:\n",
    "Used when the dependent variable (target) is categorical (e.g., Yes/No, True/False, 0/1).\n",
    "\n",
    "#### differences is given below:\n",
    "\n",
    "\n",
    "| Feature               | Logistic Regression                        | Linear Regression                      |\n",
    "| --------------------- | ------------------------------------------ | -------------------------------------- |\n",
    "| **Type of Problem**   | Classification (binary or multi-class)     | Regression (predicts continuous value) |\n",
    "| **Output Range**      | \\[0, 1] (probability)                      | (-∞, ∞)                                |\n",
    "| **Output Function**   | Sigmoid function                           | Linear function                        |\n",
    "| **Loss Function**     | Log Loss (Cross Entropy)                   | Mean Squared Error (MSE)               |\n",
    "| **Interpretation**    | Probability of class membership            | Direct prediction of value             |\n",
    "| **Decision Boundary** | Based on probability threshold (e.g., 0.5) | Not applicable                         |\n"
   ]
  },
  {
   "cell_type": "markdown",
   "id": "9ba36f69-cf86-4575-ac2a-dfea1641fcf2",
   "metadata": {},
   "source": [
    "### 2.What is the mathematical equation of Logistic Regression.\n"
   ]
  },
  {
   "cell_type": "markdown",
   "id": "ebc1fed1-ccf8-4fb4-83a4-173f260b31cf",
   "metadata": {},
   "source": [
    "### 3.Why do we use the Sigmoid function in Logistic Regression.\n",
    "The sigmoid function is used in logistic regression to map the output of a linear equation to a probability between 0 and 1."
   ]
  },
  {
   "cell_type": "markdown",
   "id": "90aed604-c2f5-407f-8fff-95d483e13630",
   "metadata": {},
   "source": [
    "### 4.What is the cost function of Logistic Regression.\n",
    "In Logistic Regression, we use the Log Loss (also called Binary Cross-Entropy Loss) as the cost function — not Mean Squared Error (like in linear regression), because logistic regression outputs probabilities, and the target is categorical (0 or 1)."
   ]
  },
  {
   "cell_type": "markdown",
   "id": "974613ff-5c13-4796-8f89-f9c56cfc16d1",
   "metadata": {},
   "source": [
    "### 5.What is Regularization in Logistic Regression? Why is it needed.\n",
    "Regularization is a technique used in logistic regression (and other ML models) to prevent overfitting by penalizing large coefficients in the model.\n",
    "\n",
    "#### Needs\n",
    "Without regularization:\n",
    "The model might memorize the training data, especially if:\n",
    "\n",
    "The number of features is large\n",
    "\n",
    "Features are noisy or redundant\n",
    "\n",
    "This leads to overfitting: high accuracy on training data but poor generalization to test data"
   ]
  },
  {
   "cell_type": "markdown",
   "id": "247e325d-a0e0-4fdb-b21f-c8643c1fb2cb",
   "metadata": {},
   "source": [
    "### 6. Explain the difference between Lasso, Ridge, and Elastic Net regression\n",
    "#### difference is given below:\n",
    "\n",
    "| Aspect              | **Ridge (L2)**     | **Lasso (L1)**                | **Elastic Net**                       |   |                          |\n",
    "| ------------------- | ------------------ | ----------------------------- | ------------------------------------- | - | ------------------------ |\n",
    "| Penalty Term        | $\\sum \\theta_j^2$  | ( \\sum                        | \\theta\\_j                             | ) | Combination of L1 and L2 |\n",
    "| Feature Selection   |  No               |  Yes (sparse model)          |  Yes (partial)                       |   |                          |\n",
    "| Handles Correlation |  Well             |  Poorly                      |  Better than Lasso                   |   |                          |\n",
    "| Coefficients        | Small, non-zero    | Some zero, some non-zero      | Some zero, some small                 |   |                          |\n",
    "| Use Case            | Many small effects | Only a few important features | High-dimensional, correlated features |   |                          |\n",
    "\n"
   ]
  },
  {
   "cell_type": "markdown",
   "id": "c3dec368-f9c8-4c49-a152-7ada85b44850",
   "metadata": {},
   "source": [
    "### 7.When should we use Elastic Net instead of Lasso or Ridge.\n",
    "Elastic Net combines both Lasso (L1) and Ridge (L2) regularization, and it is preferred when the limitations of Lasso and Ridge need to be addressed simultaneously."
   ]
  },
  {
   "cell_type": "markdown",
   "id": "0d18167c-ba8e-40be-9576-98118afd1b54",
   "metadata": {},
   "source": [
    "### 8.What is the impact of the regularization parameter (λ) in Logistic Regression.\n",
    "In regularized Logistic Regression, the regularization parameter \n",
    "λ (lambda) controls the strength of the penalty applied to the model's weights."
   ]
  },
  {
   "cell_type": "markdown",
   "id": "f590b34a-76cf-4a75-a743-f345dc135481",
   "metadata": {},
   "source": [
    "### 9.What are the key assumptions of Logistic Regression\n",
    "#### Assumption are given below:\n",
    "\n",
    "| Assumption                           | Description                                      |\n",
    "| ------------------------------------ | ------------------------------------------------ |\n",
    "| Binary/Categorical Target            | Dependent variable is categorical (0/1)          |\n",
    "| Linearity of Logit                   | Log-odds must be linearly related to predictors  |\n",
    "| Independence of Observations         | No repeated or related data points               |\n",
    "| Low Multicollinearity                | Predictors should not be highly correlated       |\n",
    "| Large Sample Size                    | Ensures reliable coefficient estimates           |\n",
    "| No Extreme Outliers                  | Avoid leverage points or influential values      |\n",
    "| No Normality Assumption for Features | Predictors don’t need to be normally distributed |\n"
   ]
  },
  {
   "cell_type": "markdown",
   "id": "ce770c4c-50c4-42c8-94e4-fb575b6ccaab",
   "metadata": {},
   "source": [
    "### 10.What are some alternatives to Logistic Regression for classification tasks.\n",
    "While logistic regression is simple, fast, and interpretable, there are many alternative classification algorithms that can outperform it—especially on nonlinear or complex datasets.\n",
    "\n",
    "1. Decision Trees\n",
    "How it works: Splits the data based on feature thresholds into a tree structure.\n",
    "\n",
    "Pros: Easy to interpret, handles nonlinearities, no need to scale features.\n",
    "\n",
    "Cons: Can overfit easily.\n",
    "\n",
    "2. Random Forest\n",
    "How it works: An ensemble of decision trees (bagging + majority vote).\n",
    "\n",
    "Pros: Robust to overfitting, good accuracy, handles missing values.\n",
    "\n",
    "Cons: Less interpretable, slower than logistic regression.\n",
    "\n",
    "3. Support Vector Machine (SVM)\n",
    "How it works: Finds the optimal hyperplane that separates classes with the maximum margin.\n",
    "\n",
    "Pros: Works well with high-dimensional data, can model nonlinear boundaries (with kernels).\n",
    "\n",
    "Cons: Sensitive to parameter tuning, less interpretable.\n",
    "\n",
    "4. k-Nearest Neighbors (k-NN)\n",
    "How it works: Classifies based on the majority label among the k closest points.\n",
    "\n",
    "Pros: Simple, no training phase.\n",
    "\n",
    "Cons: Slow for large datasets, sensitive to noisy data and irrelevant features.\n",
    "\n",
    "5. Naive Bayes\n",
    "How it works: Applies Bayes’ theorem assuming independence between features.\n",
    "\n",
    "Pros: Fast, works well with text data (e.g., spam detection).\n",
    "\n",
    "Cons: Assumes feature independence (often unrealistic), limited flexibility.\n",
    "\n",
    "6. Gradient Boosting Machines (e.g., XGBoost, LightGBM, CatBoost)\n",
    "How it works: Builds trees sequentially to minimize prediction error.\n",
    "\n",
    "Pros: High accuracy, handles missing data, robust to overfitting.\n",
    "\n",
    "Cons: Computationally intensive, requires careful tuning."
   ]
  },
  {
   "cell_type": "markdown",
   "id": "37fb1516-f39c-4b98-955e-41fc74c329fd",
   "metadata": {},
   "source": [
    "### 11.What are Classification Evaluation Metrics.\n",
    "#### some of the evaluation metrics are given below\n",
    "| Metric    | Best When...                               | Sensitive to Imbalance? |\n",
    "| --------- | ------------------------------------------ | ----------------------- |\n",
    "| Accuracy  | Classes are balanced                       | Yes                   |\n",
    "| Precision | FP is more critical (e.g., spam filter)    | Yes                   |\n",
    "| Recall    | FN is more critical (e.g., disease detect) | Yes                   |\n",
    "| F1 Score  | Need balance between precision and recall  | Yes                   |\n",
    "| AUC-ROC   | Ranking/class separation is important      | No (robust)           |\n",
    "| Log Loss  | Probabilistic predictions needed           | Yes                   |\n",
    "| MCC       | Imbalanced datasets                        | No (balanced)         |\n",
    "\n",
    "\n",
    "\n"
   ]
  },
  {
   "cell_type": "markdown",
   "id": "2169704d-268d-480a-8376-17e82feba863",
   "metadata": {},
   "source": [
    "### 12. How does class imbalance affect Logistic Regression.\n",
    "Class imbalance occurs when one class significantly outnumbers the other(s) — e.g., 95% class 0 and 5% class 1 (common in fraud detection, disease diagnosis, etc.).\n",
    "\n",
    "1. Bias Toward the Majority Class\n",
    "Logistic Regression minimizes log loss based on all examples. In an imbalanced dataset:\n",
    "\n",
    "The model focuses more on correctly classifying the majority class.\n",
    "\n",
    "It may ignore the minority class to achieve higher overall accuracy.\n",
    "\n",
    "Example:\n",
    "In a 95:5 split:\n",
    "\n",
    "Predicting all samples as majority (class 0) gives 95% accuracy — but model is useless for detecting class 1.\n",
    "\n",
    "2. Misleading Accuracy\n",
    "High accuracy may hide the fact that the minority class is poorly predicted.\n",
    "\n",
    "Metrics like precision, recall, and F1-score are more meaningful.\n",
    "\n",
    "3. Poor Recall for Minority Class\n",
    "Logistic regression may output very low probabilities for minority class instances.\n",
    "\n",
    "Fewer of them cross the 0.5 threshold → poor recall and F1-score for that class.\n",
    "\n",
    "4. Unstable Coefficients\n",
    "Coefficients of the minority class may become unstable due to insufficient data support.\n",
    "\n",
    "5. Threshold Sensitivity\n",
    "The default threshold \n",
    "𝑝=0.5 is not optimal in imbalanced settings.\n",
    "\n",
    "A lower threshold (e.g., 0.3 or 0.2) may improve recall.\n",
    "\n"
   ]
  },
  {
   "cell_type": "markdown",
   "id": "085fe900-762f-4ef0-b957-916b8308828c",
   "metadata": {},
   "source": [
    "### 13.What is Hyperparameter Tuning in Logistic Regression.\n",
    "Hyperparameter tuning is the process of optimizing model settings (hyperparameters) that are not learned during training, to improve model performance on unseen data.\n",
    "\n",
    "In logistic regression, while the model learns the coefficients \n",
    "θ, hyperparameters like regularization strength must be manually set or tuned.\n",
    "\n"
   ]
  },
  {
   "cell_type": "markdown",
   "id": "ebb92603-82be-4b71-8b23-a222826cd1e5",
   "metadata": {},
   "source": [
    "### 14.What are different solvers in Logistic Regression? Which one should be used.\n",
    "##### Different solver is given below:-\n",
    "\n",
    "| Solver        | Type                              | Supports L1? | Supports L2? | Supports ElasticNet? | Suitable For                            |\n",
    "| ------------- | --------------------------------- | ------------ | ------------ | -------------------- | --------------------------------------- |\n",
    "| `'liblinear'` | Coordinate Descent (dual)         | Yes         |  Yes        |  No                 | Small datasets, binary/multiclass       |\n",
    "| `'lbfgs'`     | Quasi-Newton (BFGS variant)       |  No         | Yes        |  No                 | Large datasets, multiclass              |\n",
    "| `'newton-cg'` | Newton-Raphson                    |  No         |  Yes        |  No                 | Large datasets, multiclass              |\n",
    "| `'sag'`       | Stochastic Average Gradient       |  No         |  Yes        |  No                 | Very large datasets (n > 10,000)        |\n",
    "| `'saga'`      | Stochastic Average Gradient w/ L1 |  Yes        |  Yes        |  Yes                | Large datasets, sparse data, ElasticNet |\n",
    "\n"
   ]
  },
  {
   "cell_type": "markdown",
   "id": "0916d1dd-db9e-4a69-ae11-97c9708aa4d9",
   "metadata": {},
   "source": [
    "### 15.How is Logistic Regression extended for multiclass classification.\n",
    "Logistic regression is inherently designed for binary classification but can be extended to multiclass problems using two primary strategies: One-vs-Rest (OvR) and Multinomial Logistic Regression (Softmax Regression). These adaptations enable the algorithm to handle target variables with three or more classes.\n",
    "\n",
    "1. One-vs-Rest (OvR)\n",
    "This approach decomposes the multiclass problem into multiple binary classification tasks. For each class:\n",
    "A separate binary classifier is trained to distinguish that class from all other classes combined.\n",
    "During prediction, the class with the highest probability or confidence score is selected.\n",
    "\n",
    "\n",
    "\n",
    "2. Multinomial Logistic Regression (Softmax Regression)\n",
    "This is a direct extension of logistic regression to multiclass problems:\n",
    "Replaces the sigmoid function with the softmax function to output a probability distribution across all classes.\n",
    "Uses cross-entropy loss (instead of binary log loss) for optimization.\n",
    "\n",
    "\n",
    "\n"
   ]
  },
  {
   "cell_type": "markdown",
   "id": "e3dd1008-a811-4c25-a1dd-eae47cb3146e",
   "metadata": {},
   "source": [
    "### 16.What are the advantages and disadvantages of Logistic Regression.\n",
    "#### Advantages and disadvantage are given below:-\n",
    "| Advantage                                      | Explanation                                                                             |\n",
    "| ---------------------------------------------- | --------------------------------------------------------------------------------------- |\n",
    "| **1. Simple and Interpretable**                | Easy to understand and interpret the coefficients (especially in terms of odds ratios). |\n",
    "| **2. Fast Training**                           | Computationally efficient; works well on smaller datasets.                              |\n",
    "| **3. Probabilistic Output**                    | Predicts probabilities, not just class labels — useful for threshold tuning.            |\n",
    "| **4. Works Well with Linearly Separable Data** | Performs well when classes are linearly separable in feature space.                     |\n",
    "| **5. Feature Importance**                      | Coefficients indicate the strength and direction of each feature’s influence.           |\n",
    "| **6. Regularization Support**                  | Can apply L1 (Lasso), L2 (Ridge), or ElasticNet to prevent overfitting.                 |\n",
    "| **7. Extendable to Multiclass**                | Supports One-vs-Rest and Multinomial (Softmax) for multiclass problems.                 |\n",
    "\n",
    "\n",
    "\n",
    "\n",
    "| Disadvantage                                                                     | Explanation                                                                                                                    |\n",
    "| -------------------------------------------------------------------------------- | ------------------------------------------------------------------------------------------------------------------------------ |\n",
    "| **1. Assumes Linearity in Log-Odds**                                             | Assumes a linear relationship between features and the log-odds of the outcome, which may not hold in complex real-world data. |\n",
    "| **2. Not Suitable for Nonlinear Problems**                                       | Performs poorly when the decision boundary is highly nonlinear (unlike trees or SVM with kernels).                             |\n",
    "| **3. Sensitive to Outliers**                                                     | Outliers can significantly affect the estimated coefficients.                                                                  |\n",
    "| **4. Poor Performance on High-Dimensional Sparse Data (without regularization)** | Overfitting is a risk if there are many features and few samples.                                                              |\n",
    "| **5. Limited to Binary or One-vs-Rest by Default**                               | Multiclass problems require adaptation (e.g., multinomial extension).                                                          |\n",
    "| **6. Can Underperform Compared to Modern Algorithms**                            | Tree-based models (e.g., Random Forest, XGBoost) often yield higher accuracy for complex datasets.                             |\n"
   ]
  },
  {
   "cell_type": "markdown",
   "id": "68e4bbc9-ecca-4fbf-a08a-85929b2234b1",
   "metadata": {},
   "source": [
    "### 17.What are some use cases of Logistic Regression.\n",
    "#### use case in different domain is given below:-\n",
    "\n",
    "\n",
    "| Domain        | Use Case                              |\n",
    "| ------------- | ------------------------------------- |\n",
    "| Healthcare    | Disease diagnosis                     |\n",
    "| Finance       | Loan approval, credit scoring         |\n",
    "| HR            | Employee attrition                    |\n",
    "| Marketing     | Ad click prediction, churn detection  |\n",
    "| Cybersecurity | Fraud detection                       |\n",
    "| NLP           | Spam detection, sentiment analysis    |\n",
    "| Insurance     | Claim prediction, risk classification |\n",
    "| Politics      | Voter behavior modeling               |\n"
   ]
  },
  {
   "cell_type": "markdown",
   "id": "7b49308b-9c17-4e3e-a9a8-3e2a0e105270",
   "metadata": {},
   "source": [
    "### 18.C What is the difference between Softmax Regression and Logistic Regression.\n",
    "#### differences is given below\n",
    "\n",
    "\n",
    "| Feature                 | **Logistic Regression**                       | **Softmax Regression (Multinomial Logistic Regression)**    |         |                                                            |\n",
    "| ----------------------- | --------------------------------------------- | ----------------------------------------------------------- | ------- | ---------------------------------------------------------- |\n",
    "| **Purpose**             | Binary classification                         | Multiclass classification                                   |         |                                                            |\n",
    "| **Number of Classes**   | 2 classes only (e.g., 0 or 1)                 | More than 2 classes (e.g., 0, 1, 2, ..., k)                 |         |                                                            |\n",
    "| **Output**              | Single probability (class 1); class 0 = 1 − p | Probability distribution over all classes (sums to 1)       |         |                                                            |\n",
    "| **Activation Function** | **Sigmoid** function                          | **Softmax** function                                        |         |                                                            |\n",
    "| **Decision Rule**       | Class = 1 if $p > 0.5$                        | Class = one with highest predicted probability              |         |                                                            |\n",
    "| **Equation**            | ( P(y=1                                       | x) = \\sigma(\\theta^T x) )                                   | ( P(y=k | x) = \\frac{e^{\\theta\\_k^T x}}{\\sum\\_j e^{\\theta\\_j^T x}} ) |\n",
    "| **Loss Function**       | Binary cross-entropy (log loss)               | Categorical cross-entropy                                   |         |                                                            |\n",
    "| **Implementation**      | Default in `sklearn` as `multi_class='ovr'`   | Use `multi_class='multinomial'`, `solver='lbfgs' or 'saga'` |         |                                                            |\n",
    "| **Use Case**            | Yes/No tasks (e.g., churn, disease detection) | Multiclass tasks (e.g., digit recognition, topic labeling)  |         |                                                            |\n",
    "\n",
    "\n"
   ]
  },
  {
   "cell_type": "markdown",
   "id": "f60e913f-cb31-4ba2-b52c-20ef0994fc26",
   "metadata": {},
   "source": [
    "### 19. How do we choose between One-vs-Rest (OvR) and Softmax for multiclass classification.\n",
    "Both One-vs-Rest (OvR) and Softmax Regression (also called Multinomial Logistic Regression) extend logistic regression to handle multiclass classification, but they have key differences in how they model and optimize the problem.\n",
    "\n",
    "1. One-vs-Rest (OvR) Logistic Regression\n",
    "Trains K binary classifiers: each one distinguishes one class vs. all others.\n",
    "\n",
    "Final prediction = class with the highest score/probability from individual classifiers.\n",
    "\n",
    "When to Use:\n",
    "Simple or small datasets\n",
    "Models that don't support multiclass natively\n",
    "When you want independent binary classifiers\n",
    "Debugging or interpretability per class\n",
    "\n",
    "\n",
    "2. Softmax (Multinomial) Logistic Regression\n",
    "Trains one model to jointly model all classes using the softmax function.\n",
    "\n",
    "Optimizes the cross-entropy loss across all classes at once.\n",
    "\n",
    "When to Use:\n",
    "When classes are mutually exclusive\n",
    "Better performance on balanced, large multiclass datasets\n",
    "When using solvers like lbfgs, newton-cg, or saga\n",
    "\n",
    "\n"
   ]
  },
  {
   "cell_type": "markdown",
   "id": "27bf8341-121a-49a2-aa13-51d624fa4222",
   "metadata": {},
   "source": [
    "### 20.C How do we interpret coefficients in Logistic Regression?\n",
    "##### defferent interpretation is give below:-\n",
    "\n",
    "| Coefficient | Log-Odds Effect    | Odds Ratio | Interpretation                          |\n",
    "| ----------- | ------------------ | ---------- | --------------------------------------- |\n",
    "| $\\beta > 0$ | Increases log-odds | $> 1$      | Feature increases likelihood of class 1 |\n",
    "| $\\beta < 0$ | Decreases log-odds | $< 1$      | Feature decreases likelihood of class 1 |\n",
    "| $\\beta = 0$ | No effect          | 1          | Feature has no impact on prediction     |\n"
   ]
  },
  {
   "cell_type": "markdown",
   "id": "2a2a886d-997e-4b23-b841-9dfe8db1c1bc",
   "metadata": {},
   "source": [
    "# Practical  questions"
   ]
  },
  {
   "cell_type": "code",
   "execution_count": 12,
   "id": "81f08629-2534-4ca0-9a65-a81450c0c462",
   "metadata": {},
   "outputs": [],
   "source": [
    "import warnings\n",
    "warnings.filterwarnings(\"ignore\")\n"
   ]
  },
  {
   "cell_type": "code",
   "execution_count": 13,
   "id": "6057cac6-39f9-45bb-9bad-3d1d9e9ebfa6",
   "metadata": {},
   "outputs": [
    {
     "name": "stdout",
     "output_type": "stream",
     "text": [
      "Model Accuracy: 100.00%\n"
     ]
    }
   ],
   "source": [
    "# 1.Write a Python program that loads a dataset, splits it into training and testing sets, applies Logistic Regression, and prints the model accuracy\n",
    "from sklearn.datasets import load_iris\n",
    "from sklearn.model_selection import train_test_split\n",
    "from sklearn.linear_model import LogisticRegression\n",
    "from sklearn.metrics import accuracy_score\n",
    "\n",
    "# Step 1: Load the dataset\n",
    "iris = load_iris()\n",
    "X = iris.data\n",
    "y = iris.target\n",
    "\n",
    "# Step 2: Split into training and testing sets (80% train, 20% test)\n",
    "X_train, X_test, y_train, y_test = train_test_split(X, y, test_size=0.2, random_state=42)\n",
    "\n",
    "# Step 3: Apply Logistic Regression\n",
    "model = LogisticRegression(max_iter=200)\n",
    "model.fit(X_train, y_train)\n",
    "\n",
    "# Step 4: Predict and calculate accuracy\n",
    "y_pred = model.predict(X_test)\n",
    "accuracy = accuracy_score(y_test, y_pred)\n",
    "\n",
    "print(f\"Model Accuracy: {accuracy * 100:.2f}%\")\n",
    "\n"
   ]
  },
  {
   "cell_type": "code",
   "execution_count": 14,
   "id": "ef64d544-97aa-4672-b020-8c253bca8870",
   "metadata": {},
   "outputs": [
    {
     "name": "stdout",
     "output_type": "stream",
     "text": [
      "Model Accuracy with L1 regularization: 100.00%\n"
     ]
    }
   ],
   "source": [
    "# 2.C Write a Python program to apply L1 regularization (Lasso) on a dataset using LogisticRegression(penalty='l1') and print the model accuracy\n",
    "from sklearn.datasets import load_iris\n",
    "from sklearn.linear_model import LogisticRegression\n",
    "from sklearn.model_selection import train_test_split\n",
    "from sklearn.metrics import accuracy_score\n",
    "\n",
    "# Step 1: Load dataset\n",
    "iris = load_iris()\n",
    "X = iris.data\n",
    "y = iris.target\n",
    "\n",
    "# Step 2: Split into training and test sets\n",
    "X_train, X_test, y_train, y_test = train_test_split(X, y, test_size=0.2, random_state=42)\n",
    "\n",
    "# Step 3: Train Logistic Regression with L1 regularization (Lasso)\n",
    "model = LogisticRegression(penalty='l1', solver='saga', max_iter=5000, multi_class='multinomial')\n",
    "model.fit(X_train, y_train)\n",
    "\n",
    "# Step 4: Predict and evaluate accuracy\n",
    "y_pred = model.predict(X_test)\n",
    "accuracy = accuracy_score(y_test, y_pred)\n",
    "\n",
    "print(f\"Model Accuracy with L1 regularization: {accuracy * 100:.2f}%\")\n"
   ]
  },
  {
   "cell_type": "code",
   "execution_count": 15,
   "id": "e243e498-91a6-4b19-9509-8b69dbb8dbb6",
   "metadata": {},
   "outputs": [
    {
     "name": "stdout",
     "output_type": "stream",
     "text": [
      "Model Accuracy with L2 regularization: 100.00%\n",
      "\n",
      "Model Coefficients (weights):\n",
      "[[-0.39347744  0.96248927 -2.37513361 -0.99874691]\n",
      " [ 0.50844553 -0.2548109  -0.21300984 -0.77574616]\n",
      " [-0.11496809 -0.70767836  2.58814346  1.77449307]]\n"
     ]
    }
   ],
   "source": [
    "# 3.Write a Python program to train Logistic Regression with L2 regularization (Ridge) using LogisticRegression(penalty='l2'). Print model accuracy and coefficientsC\n",
    "from sklearn.datasets import load_iris\n",
    "from sklearn.linear_model import LogisticRegression\n",
    "from sklearn.model_selection import train_test_split\n",
    "from sklearn.metrics import accuracy_score\n",
    "\n",
    "# Step 1: Load dataset\n",
    "iris = load_iris()\n",
    "X = iris.data\n",
    "y = iris.target\n",
    "\n",
    "# Step 2: Train-test split\n",
    "X_train, X_test, y_train, y_test = train_test_split(X, y, test_size=0.2, random_state=42)\n",
    "\n",
    "# Step 3: Train Logistic Regression with L2 regularization (Ridge)\n",
    "model = LogisticRegression(penalty='l2', solver='lbfgs', max_iter=1000, multi_class='multinomial')\n",
    "model.fit(X_train, y_train)\n",
    "\n",
    "# Step 4: Predict and evaluate\n",
    "y_pred = model.predict(X_test)\n",
    "accuracy = accuracy_score(y_test, y_pred)\n",
    "\n",
    "# Step 5: Output results\n",
    "print(f\"Model Accuracy with L2 regularization: {accuracy * 100:.2f}%\\n\")\n",
    "print(\"Model Coefficients (weights):\")\n",
    "print(model.coef_)\n"
   ]
  },
  {
   "cell_type": "code",
   "execution_count": 16,
   "id": "e5a88fd3-469a-4b7e-9898-b4ccc9f7a838",
   "metadata": {},
   "outputs": [
    {
     "name": "stdout",
     "output_type": "stream",
     "text": [
      "Model Accuracy with Elastic Net Regularization: 100.00%\n",
      "\n",
      "Model Coefficients:\n",
      "[[ 0.          1.23235353 -2.52976145 -0.58989603]\n",
      " [ 0.1400023   0.          0.         -0.5081781 ]\n",
      " [-0.50225208 -0.75321768  2.88076353  2.09807371]]\n"
     ]
    }
   ],
   "source": [
    "# 4. Write a Python program to train Logistic Regression with Elastic Net Regularization (penalty='elasticnet')\n",
    "from sklearn.datasets import load_iris\n",
    "from sklearn.linear_model import LogisticRegression\n",
    "from sklearn.model_selection import train_test_split\n",
    "from sklearn.metrics import accuracy_score\n",
    "\n",
    "# Step 1: Load the dataset\n",
    "iris = load_iris()\n",
    "X = iris.data\n",
    "y = iris.target\n",
    "\n",
    "# Step 2: Split into training and testing sets\n",
    "X_train, X_test, y_train, y_test = train_test_split(X, y, test_size=0.2, random_state=42)\n",
    "\n",
    "# Step 3: Train Logistic Regression with Elastic Net Regularization\n",
    "model = LogisticRegression(\n",
    "    penalty='elasticnet',       # Elastic Net penalty\n",
    "    solver='saga',              # 'saga' supports elasticnet\n",
    "    l1_ratio=0.5,               # Mix of L1 and L2 (0.5 = 50/50)\n",
    "    multi_class='multinomial', # Suitable for multiclass classification\n",
    "    max_iter=5000              # Increased iterations to ensure convergence\n",
    ")\n",
    "\n",
    "model.fit(X_train, y_train)\n",
    "\n",
    "# Step 4: Predict and calculate accuracy\n",
    "y_pred = model.predict(X_test)\n",
    "accuracy = accuracy_score(y_test, y_pred)\n",
    "\n",
    "# Step 5: Output accuracy and coefficients\n",
    "print(f\"Model Accuracy with Elastic Net Regularization: {accuracy * 100:.2f}%\\n\")\n",
    "print(\"Model Coefficients:\")\n",
    "print(model.coef_)\n"
   ]
  },
  {
   "cell_type": "code",
   "execution_count": 17,
   "id": "792e4726-7e84-4b59-883f-301fac7f7fc1",
   "metadata": {},
   "outputs": [
    {
     "name": "stdout",
     "output_type": "stream",
     "text": [
      "Model Accuracy (OvR): 100.00%\n",
      "\n",
      "Model Coefficients:\n",
      "[[ 0.3711229   1.409712   -2.15210117 -0.95474179]\n",
      " [ 0.49400451 -1.58897112  0.43717015 -1.11187838]\n",
      " [-1.55895271 -1.58893375  2.39874554  2.15556209]]\n"
     ]
    }
   ],
   "source": [
    "# 5. Write a Python program to train a Logistic Regression model for multiclass classification using multi_class='ovr'\n",
    "from sklearn.datasets import load_iris\n",
    "from sklearn.linear_model import LogisticRegression\n",
    "from sklearn.model_selection import train_test_split\n",
    "from sklearn.metrics import accuracy_score\n",
    "\n",
    "# Step 1: Load dataset\n",
    "iris = load_iris()\n",
    "X = iris.data\n",
    "y = iris.target\n",
    "\n",
    "# Step 2: Split dataset into training and test sets\n",
    "X_train, X_test, y_train, y_test = train_test_split(X, y, test_size=0.2, random_state=42)\n",
    "\n",
    "# Step 3: Train Logistic Regression with One-vs-Rest multiclass strategy\n",
    "model = LogisticRegression(multi_class='ovr', solver='liblinear', max_iter=1000)\n",
    "model.fit(X_train, y_train)\n",
    "\n",
    "# Step 4: Predict and evaluate\n",
    "y_pred = model.predict(X_test)\n",
    "accuracy = accuracy_score(y_test, y_pred)\n",
    "\n",
    "# Step 5: Display results\n",
    "print(f\"Model Accuracy (OvR): {accuracy * 100:.2f}%\\n\")\n",
    "print(\"Model Coefficients:\")\n",
    "print(model.coef_)\n"
   ]
  },
  {
   "cell_type": "code",
   "execution_count": 18,
   "id": "7abbcadd-75c1-47e7-ada5-194125424708",
   "metadata": {},
   "outputs": [
    {
     "name": "stdout",
     "output_type": "stream",
     "text": [
      "Best Hyperparameters:\n",
      "{'C': 10, 'penalty': 'l1', 'solver': 'liblinear'}\n",
      "Best Model Accuracy: 100.00%\n"
     ]
    }
   ],
   "source": [
    "# 6.Write a Python program to apply GridSearchCV to tune the hyperparameters (C and penalty) of Logistic Regression. Print the best parameters and accuracy\n",
    "from sklearn.datasets import load_iris\n",
    "from sklearn.linear_model import LogisticRegression\n",
    "from sklearn.model_selection import GridSearchCV, train_test_split\n",
    "from sklearn.metrics import accuracy_score\n",
    "\n",
    "# Step 1: Load dataset\n",
    "iris = load_iris()\n",
    "X = iris.data\n",
    "y = iris.target\n",
    "\n",
    "# Step 2: Split into train and test sets\n",
    "X_train, X_test, y_train, y_test = train_test_split(X, y, test_size=0.2, random_state=42)\n",
    "\n",
    "# Step 3: Define parameter grid\n",
    "param_grid = {\n",
    "    'C': [0.01, 0.1, 1, 10, 100],\n",
    "    'penalty': ['l1', 'l2'],\n",
    "    'solver': ['liblinear']  # 'liblinear' supports both l1 and l2 penalties\n",
    "}\n",
    "\n",
    "# Step 4: GridSearchCV\n",
    "grid_search = GridSearchCV(LogisticRegression(max_iter=1000), param_grid, cv=5)\n",
    "grid_search.fit(X_train, y_train)\n",
    "\n",
    "# Step 5: Evaluate best model\n",
    "best_model = grid_search.best_estimator_\n",
    "y_pred = best_model.predict(X_test)\n",
    "accuracy = accuracy_score(y_test, y_pred)\n",
    "\n",
    "# Step 6: Print results\n",
    "print(\"Best Hyperparameters:\")\n",
    "print(grid_search.best_params_)\n",
    "print(f\"Best Model Accuracy: {accuracy * 100:.2f}%\")\n"
   ]
  },
  {
   "cell_type": "code",
   "execution_count": 19,
   "id": "bbb57220-c0a4-496f-84e5-3bac7b4967e8",
   "metadata": {},
   "outputs": [
    {
     "name": "stdout",
     "output_type": "stream",
     "text": [
      "Accuracy for each fold: [0.96666667 1.         0.9        0.93333333 1.        ]\n",
      "Average Accuracy: 96.00%\n"
     ]
    }
   ],
   "source": [
    "# 7.Write a Python program to evaluate Logistic Regression using Stratified K-Fold Cross-Validation. Print the average accuracy\n",
    "from sklearn.datasets import load_iris\n",
    "from sklearn.linear_model import LogisticRegression\n",
    "from sklearn.model_selection import StratifiedKFold, cross_val_score\n",
    "import numpy as np\n",
    "\n",
    "# Step 1: Load dataset\n",
    "iris = load_iris()\n",
    "X = iris.data\n",
    "y = iris.target\n",
    "\n",
    "# Step 2: Define Logistic Regression model\n",
    "model = LogisticRegression(max_iter=1000, multi_class='ovr', solver='liblinear')\n",
    "\n",
    "# Step 3: Stratified K-Fold setup\n",
    "skf = StratifiedKFold(n_splits=5, shuffle=True, random_state=42)\n",
    "\n",
    "# Step 4: Evaluate using cross-validation\n",
    "scores = cross_val_score(model, X, y, cv=skf, scoring='accuracy')\n",
    "\n",
    "# Step 5: Print results\n",
    "print(\"Accuracy for each fold:\", scores)\n",
    "print(f\"Average Accuracy: {np.mean(scores) * 100:.2f}%\")\n"
   ]
  },
  {
   "cell_type": "code",
   "execution_count": 44,
   "id": "ec9c37f3-c582-4490-bc3d-ae4a9740b882",
   "metadata": {},
   "outputs": [
    {
     "data": {
      "text/html": [
       "<div>\n",
       "<style scoped>\n",
       "    .dataframe tbody tr th:only-of-type {\n",
       "        vertical-align: middle;\n",
       "    }\n",
       "\n",
       "    .dataframe tbody tr th {\n",
       "        vertical-align: top;\n",
       "    }\n",
       "\n",
       "    .dataframe thead th {\n",
       "        text-align: right;\n",
       "    }\n",
       "</style>\n",
       "<table border=\"1\" class=\"dataframe\">\n",
       "  <thead>\n",
       "    <tr style=\"text-align: right;\">\n",
       "      <th></th>\n",
       "      <th>Student_ID</th>\n",
       "      <th>CGPA</th>\n",
       "      <th>IQ</th>\n",
       "      <th>Placement</th>\n",
       "    </tr>\n",
       "  </thead>\n",
       "  <tbody>\n",
       "    <tr>\n",
       "      <th>0</th>\n",
       "      <td>1</td>\n",
       "      <td>6.8</td>\n",
       "      <td>123</td>\n",
       "      <td>1</td>\n",
       "    </tr>\n",
       "    <tr>\n",
       "      <th>1</th>\n",
       "      <td>2</td>\n",
       "      <td>5.9</td>\n",
       "      <td>106</td>\n",
       "      <td>0</td>\n",
       "    </tr>\n",
       "    <tr>\n",
       "      <th>2</th>\n",
       "      <td>3</td>\n",
       "      <td>5.3</td>\n",
       "      <td>121</td>\n",
       "      <td>0</td>\n",
       "    </tr>\n",
       "    <tr>\n",
       "      <th>3</th>\n",
       "      <td>4</td>\n",
       "      <td>7.4</td>\n",
       "      <td>132</td>\n",
       "      <td>1</td>\n",
       "    </tr>\n",
       "    <tr>\n",
       "      <th>4</th>\n",
       "      <td>5</td>\n",
       "      <td>5.8</td>\n",
       "      <td>142</td>\n",
       "      <td>0</td>\n",
       "    </tr>\n",
       "  </tbody>\n",
       "</table>\n",
       "</div>"
      ],
      "text/plain": [
       "   Student_ID  CGPA   IQ  Placement\n",
       "0           1   6.8  123          1\n",
       "1           2   5.9  106          0\n",
       "2           3   5.3  121          0\n",
       "3           4   7.4  132          1\n",
       "4           5   5.8  142          0"
      ]
     },
     "execution_count": 44,
     "metadata": {},
     "output_type": "execute_result"
    }
   ],
   "source": [
    "# 8.Write a Python program to load a dataset from a CSV file, apply Logistic Regression, and evaluate its accuracy.\n",
    "\n",
    "#Step 1\n",
    "import pandas as pd\n",
    "dff=pd.read_csv(\"Placement.csv\")\n",
    "dff.head()"
   ]
  },
  {
   "cell_type": "code",
   "execution_count": 46,
   "id": "204c1896-1877-426d-a3fb-ffe0385983dd",
   "metadata": {},
   "outputs": [
    {
     "name": "stdout",
     "output_type": "stream",
     "text": [
      "Model Accuracy: 85.00%\n"
     ]
    }
   ],
   "source": [
    "import pandas as pd\n",
    "from sklearn.linear_model import LogisticRegression\n",
    "from sklearn.model_selection import train_test_split\n",
    "from sklearn.metrics import accuracy_score\n",
    "\n",
    "# Step 2: Select features and target\n",
    "X = dff[['CGPA', 'IQ']]\n",
    "y = dff['Placement']  # Assuming Placement is 0 or 1\n",
    "\n",
    "# Step 3: Split into training and testing sets\n",
    "X_train, X_test, y_train, y_test = train_test_split(X, y, test_size=0.2, random_state=42)\n",
    "\n",
    "# Step 4: Train Logistic Regression model\n",
    "model = LogisticRegression()\n",
    "model.fit(X_train, y_train)\n",
    "\n",
    "# Step 5: Make predictions\n",
    "y_pred = model.predict(X_test)\n",
    "\n",
    "# Step 6: Evaluate accuracy\n",
    "accuracy = accuracy_score(y_test, y_pred)\n",
    "print(f\"Model Accuracy: {accuracy * 100:.2f}%\")\n"
   ]
  },
  {
   "cell_type": "code",
   "execution_count": 21,
   "id": "da52ebb1-f49b-4ab8-8fae-207422c4c731",
   "metadata": {},
   "outputs": [
    {
     "name": "stdout",
     "output_type": "stream",
     "text": [
      "Best Hyperparameters:\n",
      "{'solver': 'saga', 'penalty': 'l2', 'C': 10.0}\n",
      "Test Accuracy of Best Model: 100.00%\n"
     ]
    }
   ],
   "source": [
    "# 9.Write a Python program to apply RandomizedSearchCV for tuning hyperparameters (C, penalty, solver) in Logistic Regression. Print the best parameters and accuracy\n",
    "from sklearn.datasets import load_iris\n",
    "from sklearn.linear_model import LogisticRegression\n",
    "from sklearn.model_selection import train_test_split, RandomizedSearchCV\n",
    "from sklearn.metrics import accuracy_score\n",
    "import numpy as np\n",
    "\n",
    "# Step 1: Load dataset\n",
    "iris = load_iris()\n",
    "X = iris.data\n",
    "y = iris.target\n",
    "\n",
    "# Step 2: Train-test split\n",
    "X_train, X_test, y_train, y_test = train_test_split(X, y, test_size=0.2, random_state=42)\n",
    "\n",
    "# Step 3: Define parameter distribution\n",
    "param_dist = {\n",
    "    'C': np.logspace(-3, 3, 10),                      # Range from 0.001 to 1000\n",
    "    'penalty': ['l1', 'l2'],\n",
    "    'solver': ['liblinear', 'saga']\n",
    "}\n",
    "\n",
    "# Step 4: Create and fit RandomizedSearchCV\n",
    "model = LogisticRegression(max_iter=5000, multi_class='ovr')\n",
    "random_search = RandomizedSearchCV(model, param_distributions=param_dist, n_iter=10, cv=5, scoring='accuracy', random_state=42)\n",
    "random_search.fit(X_train, y_train)\n",
    "\n",
    "# Step 5: Evaluate best model\n",
    "best_model = random_search.best_estimator_\n",
    "y_pred = best_model.predict(X_test)\n",
    "accuracy = accuracy_score(y_test, y_pred)\n",
    "\n",
    "# Step 6: Print results\n",
    "print(\"Best Hyperparameters:\")\n",
    "print(random_search.best_params_)\n",
    "print(f\"Test Accuracy of Best Model: {accuracy * 100:.2f}%\")\n"
   ]
  },
  {
   "cell_type": "code",
   "execution_count": 23,
   "id": "0d60ab00-beee-42df-be82-c496d33f2494",
   "metadata": {},
   "outputs": [
    {
     "name": "stdout",
     "output_type": "stream",
     "text": [
      "Accuracy using One-vs-One Logistic Regression: 100.00%\n"
     ]
    }
   ],
   "source": [
    "# 10.Write a Python program to implement One-vs-One (OvO) Multiclass Logistic Regression and print accuracy\n",
    "from sklearn.datasets import load_iris\n",
    "from sklearn.model_selection import train_test_split\n",
    "from sklearn.linear_model import LogisticRegression\n",
    "from sklearn.multiclass import OneVsOneClassifier\n",
    "from sklearn.metrics import accuracy_score\n",
    "\n",
    "# Step 1: Load dataset\n",
    "iris = load_iris()\n",
    "X = iris.data\n",
    "y = iris.target\n",
    "\n",
    "# Step 2: Train-test split\n",
    "X_train, X_test, y_train, y_test = train_test_split(X, y, test_size=0.2, random_state=42)\n",
    "\n",
    "# Step 3: One-vs-One Logistic Regression\n",
    "base_model = LogisticRegression(max_iter=1000, solver='liblinear')  # base binary classifier\n",
    "ovo_model = OneVsOneClassifier(base_model)\n",
    "ovo_model.fit(X_train, y_train)\n",
    "\n",
    "# Step 4: Prediction and evaluation\n",
    "y_pred = ovo_model.predict(X_test)\n",
    "accuracy = accuracy_score(y_test, y_pred)\n",
    "\n",
    "# Step 5: Output results\n",
    "print(f\"Accuracy using One-vs-One Logistic Regression: {accuracy * 100:.2f}%\")\n"
   ]
  },
  {
   "cell_type": "code",
   "execution_count": 24,
   "id": "7d3696c6-2116-4132-afe7-86a5d315f03b",
   "metadata": {},
   "outputs": [
    {
     "name": "stdout",
     "output_type": "stream",
     "text": [
      "Model Accuracy: 95.61%\n"
     ]
    },
    {
     "data": {
      "image/png": "[encoded data removed]",
      "text/plain": [
       "<Figure size 600x400 with 2 Axes>"
      ]
     },
     "metadata": {},
     "output_type": "display_data"
    }
   ],
   "source": [
    "# 11. Write a Python program to train a Logistic Regression model and visualize the confusion matrix for binary classification\n",
    "import matplotlib.pyplot as plt\n",
    "import seaborn as sns\n",
    "from sklearn.datasets import load_breast_cancer\n",
    "from sklearn.linear_model import LogisticRegression\n",
    "from sklearn.model_selection import train_test_split\n",
    "from sklearn.metrics import confusion_matrix, accuracy_score\n",
    "\n",
    "# Step 1: Load binary classification dataset\n",
    "data = load_breast_cancer()\n",
    "X = data.data\n",
    "y = data.target\n",
    "\n",
    "# Step 2: Train-test split\n",
    "X_train, X_test, y_train, y_test = train_test_split(X, y, test_size=0.2, random_state=42)\n",
    "\n",
    "# Step 3: Train Logistic Regression\n",
    "model = LogisticRegression(max_iter=1000)\n",
    "model.fit(X_train, y_train)\n",
    "\n",
    "# Step 4: Predictions\n",
    "y_pred = model.predict(X_test)\n",
    "\n",
    "# Step 5: Compute confusion matrix\n",
    "cm = confusion_matrix(y_test, y_pred)\n",
    "\n",
    "# Step 6: Print accuracy\n",
    "accuracy = accuracy_score(y_test, y_pred)\n",
    "print(f\"Model Accuracy: {accuracy * 100:.2f}%\")\n",
    "\n",
    "# Step 7: Visualize confusion matrix\n",
    "plt.figure(figsize=(6, 4))\n",
    "sns.heatmap(cm, annot=True, fmt='d', cmap='Blues',\n",
    "            xticklabels=data.target_names,\n",
    "            yticklabels=data.target_names)\n",
    "plt.title('Confusion Matrix')\n",
    "plt.xlabel('Predicted')\n",
    "plt.ylabel('Actual')\n",
    "plt.tight_layout()\n",
    "plt.show()\n"
   ]
  },
  {
   "cell_type": "code",
   "execution_count": 25,
   "id": "b2282a2c-bfd0-4b45-b2e8-cb28de3e26d4",
   "metadata": {},
   "outputs": [
    {
     "name": "stdout",
     "output_type": "stream",
     "text": [
      "Precision: 0.95\n",
      "Recall:    0.99\n",
      "F1-Score:  0.97\n"
     ]
    }
   ],
   "source": [
    "# 12.Write a Python program to train a Logistic Regression model and evaluate its performance using Precision,Recall, and F1-Score\n",
    "from sklearn.datasets import load_breast_cancer\n",
    "from sklearn.linear_model import LogisticRegression\n",
    "from sklearn.model_selection import train_test_split\n",
    "from sklearn.metrics import precision_score, recall_score, f1_score\n",
    "\n",
    "# Step 1: Load binary classification dataset\n",
    "data = load_breast_cancer()\n",
    "X = data.data\n",
    "y = data.target\n",
    "\n",
    "# Step 2: Split into train and test sets\n",
    "X_train, X_test, y_train, y_test = train_test_split(X, y, test_size=0.2, random_state=42)\n",
    "\n",
    "# Step 3: Train Logistic Regression model\n",
    "model = LogisticRegression(max_iter=1000)\n",
    "model.fit(X_train, y_train)\n",
    "\n",
    "# Step 4: Predict\n",
    "y_pred = model.predict(X_test)\n",
    "\n",
    "# Step 5: Evaluate performance\n",
    "precision = precision_score(y_test, y_pred)\n",
    "recall = recall_score(y_test, y_pred)\n",
    "f1 = f1_score(y_test, y_pred)\n",
    "\n",
    "# Step 6: Print results\n",
    "print(f\"Precision: {precision:.2f}\")\n",
    "print(f\"Recall:    {recall:.2f}\")\n",
    "print(f\"F1-Score:  {f1:.2f}\")\n",
    "\n"
   ]
  },
  {
   "cell_type": "code",
   "execution_count": 27,
   "id": "110536e0-8be0-4721-b4cc-8f0720fbfece",
   "metadata": {},
   "outputs": [
    {
     "name": "stdout",
     "output_type": "stream",
     "text": [
      "=== Without Class Weights ===\n",
      "              precision    recall  f1-score   support\n",
      "\n",
      "           0       1.00      0.99      1.00       186\n",
      "           1       0.93      1.00      0.97        14\n",
      "\n",
      "    accuracy                           0.99       200\n",
      "   macro avg       0.97      1.00      0.98       200\n",
      "weighted avg       1.00      0.99      1.00       200\n",
      "\n",
      "=== With Class Weights (Balanced) ===\n",
      "              precision    recall  f1-score   support\n",
      "\n",
      "           0       1.00      0.96      0.98       186\n",
      "           1       0.67      1.00      0.80        14\n",
      "\n",
      "    accuracy                           0.96       200\n",
      "   macro avg       0.83      0.98      0.89       200\n",
      "weighted avg       0.98      0.96      0.97       200\n",
      "\n"
     ]
    },
    {
     "data": {
      "image/png": "[encoded data removed]",
      "text/plain": [
       "<Figure size 640x480 with 2 Axes>"
      ]
     },
     "metadata": {},
     "output_type": "display_data"
    }
   ],
   "source": [
    "# 13.Write a Python program to train a Logistic Regression model on imbalanced data and apply class weights to improve model performance\n",
    "from sklearn.datasets import make_classification\n",
    "from sklearn.linear_model import LogisticRegression\n",
    "from sklearn.model_selection import train_test_split\n",
    "from sklearn.metrics import classification_report, ConfusionMatrixDisplay\n",
    "import matplotlib.pyplot as plt\n",
    "\n",
    "# Step 1: Create an imbalanced dataset\n",
    "X, y = make_classification(n_samples=1000, n_features=20, n_informative=2,\n",
    "                           n_redundant=10, n_clusters_per_class=1,\n",
    "                           weights=[0.9, 0.1], flip_y=0, random_state=42)\n",
    "\n",
    "# Step 2: Train-test split\n",
    "X_train, X_test, y_train, y_test = train_test_split(X, y, test_size=0.2, random_state=42)\n",
    "\n",
    "# Step 3: Train model without class weights\n",
    "model_plain = LogisticRegression(max_iter=1000)\n",
    "model_plain.fit(X_train, y_train)\n",
    "y_pred_plain = model_plain.predict(X_test)\n",
    "\n",
    "print(\"=== Without Class Weights ===\")\n",
    "print(classification_report(y_test, y_pred_plain))\n",
    "\n",
    "# Step 4: Train model with class_weight='balanced'\n",
    "model_weighted = LogisticRegression(class_weight='balanced', max_iter=1000)\n",
    "model_weighted.fit(X_train, y_train)\n",
    "y_pred_weighted = model_weighted.predict(X_test)\n",
    "\n",
    "print(\"=== With Class Weights (Balanced) ===\")\n",
    "print(classification_report(y_test, y_pred_weighted))\n",
    "\n",
    "# Step 5: Plot confusion matrix\n",
    "disp = ConfusionMatrixDisplay.from_estimator(\n",
    "    model_weighted, X_test, y_test, cmap='Blues', values_format='d'\n",
    ")\n",
    "plt.title(\"Confusion Matrix with Class Weight = 'balanced'\")\n",
    "plt.show()\n"
   ]
  },
  {
   "cell_type": "code",
   "execution_count": 28,
   "id": "f0acbd0f-c36b-468f-ae4b-fc5853a32522",
   "metadata": {},
   "outputs": [
    {
     "name": "stdout",
     "output_type": "stream",
     "text": [
      "=== Classification Report ===\n",
      "              precision    recall  f1-score   support\n",
      "\n",
      "           0       0.77      0.91      0.83        80\n",
      "           1       0.85      0.65      0.74        63\n",
      "\n",
      "    accuracy                           0.80       143\n",
      "   macro avg       0.81      0.78      0.79       143\n",
      "weighted avg       0.81      0.80      0.79       143\n",
      "\n"
     ]
    }
   ],
   "source": [
    "# 14.Write a Python program to train Logistic Regression on the Titanic dataset, handle missing values, and evaluate performance\n",
    "import seaborn as sns\n",
    "import pandas as pd\n",
    "from sklearn.model_selection import train_test_split\n",
    "from sklearn.linear_model import LogisticRegression\n",
    "from sklearn.metrics import classification_report\n",
    "from sklearn.preprocessing import LabelEncoder\n",
    "\n",
    "# Step 1: Load Titanic dataset\n",
    "df = sns.load_dataset('titanic')\n",
    "\n",
    "# Step 2: Select relevant features and drop rows with too many missing values\n",
    "df = df[['survived', 'pclass', 'sex', 'age', 'sibsp', 'parch', 'fare', 'embarked']]\n",
    "df.dropna(subset=['age', 'embarked'], inplace=True)\n",
    "\n",
    "# Step 3: Encode categorical features\n",
    "df['sex'] = LabelEncoder().fit_transform(df['sex'])           # male=1, female=0\n",
    "df['embarked'] = LabelEncoder().fit_transform(df['embarked']) # S=2, C=0, Q=1\n",
    "\n",
    "# Step 4: Define features and label\n",
    "X = df.drop('survived', axis=1)\n",
    "y = df['survived']\n",
    "\n",
    "# Step 5: Train-test split\n",
    "X_train, X_test, y_train, y_test = train_test_split(X, y, test_size=0.2, random_state=42)\n",
    "\n",
    "# Step 6: Train Logistic Regression model\n",
    "model = LogisticRegression(max_iter=1000)\n",
    "model.fit(X_train, y_train)\n",
    "\n",
    "# Step 7: Predict and evaluate\n",
    "y_pred = model.predict(X_test)\n",
    "print(\"=== Classification Report ===\")\n",
    "print(classification_report(y_test, y_pred))\n"
   ]
  },
  {
   "cell_type": "code",
   "execution_count": 29,
   "id": "6403e467-016a-4d4e-87a0-d59abcf81dec",
   "metadata": {},
   "outputs": [
    {
     "name": "stdout",
     "output_type": "stream",
     "text": [
      "Accuracy WITHOUT Scaling: 95.61%\n",
      "Accuracy WITH Scaling:    97.37%\n"
     ]
    }
   ],
   "source": [
    "# 15.Write a Python program to apply feature scaling (Standardization) before training a Logistic Regression model. Evaluate its accuracy and compare results with and without scaling\n",
    "from sklearn.datasets import load_breast_cancer\n",
    "from sklearn.linear_model import LogisticRegression\n",
    "from sklearn.model_selection import train_test_split\n",
    "from sklearn.preprocessing import StandardScaler\n",
    "from sklearn.metrics import accuracy_score\n",
    "\n",
    "# Step 1: Load dataset\n",
    "data = load_breast_cancer()\n",
    "X = data.data\n",
    "y = data.target\n",
    "\n",
    "# Step 2: Train-test split\n",
    "X_train, X_test, y_train, y_test = train_test_split(X, y, test_size=0.2, random_state=42)\n",
    "\n",
    "# Step 3: Logistic Regression WITHOUT Scaling\n",
    "model_plain = LogisticRegression(max_iter=1000)\n",
    "model_plain.fit(X_train, y_train)\n",
    "y_pred_plain = model_plain.predict(X_test)\n",
    "accuracy_plain = accuracy_score(y_test, y_pred_plain)\n",
    "\n",
    "# Step 4: Apply Standard Scaling\n",
    "scaler = StandardScaler()\n",
    "X_train_scaled = scaler.fit_transform(X_train)\n",
    "X_test_scaled = scaler.transform(X_test)\n",
    "\n",
    "# Step 5: Logistic Regression WITH Scaling\n",
    "model_scaled = LogisticRegression(max_iter=1000)\n",
    "model_scaled.fit(X_train_scaled, y_train)\n",
    "y_pred_scaled = model_scaled.predict(X_test_scaled)\n",
    "accuracy_scaled = accuracy_score(y_test, y_pred_scaled)\n",
    "\n",
    "# Step 6: Print results\n",
    "print(f\"Accuracy WITHOUT Scaling: {accuracy_plain * 100:.2f}%\")\n",
    "print(f\"Accuracy WITH Scaling:    {accuracy_scaled * 100:.2f}%\")\n"
   ]
  },
  {
   "cell_type": "code",
   "execution_count": 30,
   "id": "10b065b3-69a9-4297-ad96-3dc6d7cb39d8",
   "metadata": {},
   "outputs": [
    {
     "name": "stdout",
     "output_type": "stream",
     "text": [
      "ROC-AUC Score: 1.00\n"
     ]
    },
    {
     "data": {
      "image/png": "[encoded data removed]",
      "text/plain": [
       "<Figure size 600x400 with 1 Axes>"
      ]
     },
     "metadata": {},
     "output_type": "display_data"
    }
   ],
   "source": [
    "# 16.Write a Python program to train Logistic Regression and evaluate its performance using ROC-AUC score\n",
    "from sklearn.datasets import load_breast_cancer\n",
    "from sklearn.linear_model import LogisticRegression\n",
    "from sklearn.model_selection import train_test_split\n",
    "from sklearn.metrics import roc_auc_score, roc_curve\n",
    "import matplotlib.pyplot as plt\n",
    "\n",
    "# Step 1: Load binary classification dataset\n",
    "data = load_breast_cancer()\n",
    "X = data.data\n",
    "y = data.target\n",
    "\n",
    "# Step 2: Split into training and testing sets\n",
    "X_train, X_test, y_train, y_test = train_test_split(X, y, test_size=0.2, random_state=42)\n",
    "\n",
    "# Step 3: Train Logistic Regression model\n",
    "model = LogisticRegression(max_iter=1000)\n",
    "model.fit(X_train, y_train)\n",
    "\n",
    "# Step 4: Predict probabilities\n",
    "y_prob = model.predict_proba(X_test)[:, 1]  # Probability for class 1\n",
    "\n",
    "# Step 5: Calculate ROC-AUC score\n",
    "roc_auc = roc_auc_score(y_test, y_prob)\n",
    "print(f\"ROC-AUC Score: {roc_auc:.2f}\")\n",
    "\n",
    "# Step 6: Plot ROC curve\n",
    "fpr, tpr, thresholds = roc_curve(y_test, y_prob)\n",
    "plt.figure(figsize=(6, 4))\n",
    "plt.plot(fpr, tpr, label=f\"ROC Curve (AUC = {roc_auc:.2f})\", color='blue')\n",
    "plt.plot([0, 1], [0, 1], linestyle='--', color='gray')  # Diagonal line\n",
    "plt.xlabel(\"False Positive Rate\")\n",
    "plt.ylabel(\"True Positive Rate\")\n",
    "plt.title(\"Receiver Operating Characteristic (ROC) Curve\")\n",
    "plt.legend()\n",
    "plt.grid(True)\n",
    "plt.tight_layout()\n",
    "plt.show()\n"
   ]
  },
  {
   "cell_type": "code",
   "execution_count": 31,
   "id": "8c4a7674-bf22-4f38-8b8e-973651833c75",
   "metadata": {},
   "outputs": [
    {
     "name": "stdout",
     "output_type": "stream",
     "text": [
      "Accuracy with C=0.5: 95.61%\n"
     ]
    }
   ],
   "source": [
    "# 17.Write a Python program to train Logistic Regression using a custom learning rate (C=0.5) and evaluate accuracy\n",
    "from sklearn.datasets import load_breast_cancer\n",
    "from sklearn.linear_model import LogisticRegression\n",
    "from sklearn.model_selection import train_test_split\n",
    "from sklearn.metrics import accuracy_score\n",
    "\n",
    "# Step 1: Load dataset\n",
    "data = load_breast_cancer()\n",
    "X = data.data\n",
    "y = data.target\n",
    "\n",
    "# Step 2: Train-test split\n",
    "X_train, X_test, y_train, y_test = train_test_split(X, y, test_size=0.2, random_state=42)\n",
    "\n",
    "# Step 3: Train Logistic Regression with custom C (regularization strength)\n",
    "# Note: C is the inverse of regularization strength; lower C => stronger regularization\n",
    "model = LogisticRegression(C=0.5, max_iter=1000)\n",
    "model.fit(X_train, y_train)\n",
    "\n",
    "# Step 4: Predict and evaluate accuracy\n",
    "y_pred = model.predict(X_test)\n",
    "accuracy = accuracy_score(y_test, y_pred)\n",
    "\n",
    "# Step 5: Print result\n",
    "print(f\"Accuracy with C=0.5: {accuracy * 100:.2f}%\")\n"
   ]
  },
  {
   "cell_type": "code",
   "execution_count": 32,
   "id": "9b327fd5-5ff1-45d5-b514-6a8e8e8c2e03",
   "metadata": {},
   "outputs": [
    {
     "name": "stdout",
     "output_type": "stream",
     "text": [
      "Top Important Features in Logistic Regression:\n",
      "mean radius             1.682656\n",
      "worst concavity         1.388942\n",
      "texture error           1.171688\n",
      "worst radius            1.171678\n",
      "worst symmetry          0.775743\n",
      "worst concave points    0.743337\n",
      "mean concavity          0.657929\n",
      "mean concave points     0.467868\n",
      "worst texture           0.428326\n",
      "worst compactness       0.427512\n",
      "dtype: float64\n"
     ]
    }
   ],
   "source": [
    "# 18. Write a Python program to train Logistic Regression and identify important features based on model coefficients\n",
    "import pandas as pd\n",
    "from sklearn.datasets import load_breast_cancer\n",
    "from sklearn.linear_model import LogisticRegression\n",
    "from sklearn.model_selection import train_test_split\n",
    "\n",
    "# Step 1: Load dataset\n",
    "data = load_breast_cancer()\n",
    "X = pd.DataFrame(data.data, columns=data.feature_names)\n",
    "y = data.target\n",
    "\n",
    "# Step 2: Train-test split\n",
    "X_train, X_test, y_train, y_test = train_test_split(X, y, test_size=0.2, random_state=42)\n",
    "\n",
    "# Step 3: Train Logistic Regression\n",
    "model = LogisticRegression(max_iter=1000)\n",
    "model.fit(X_train, y_train)\n",
    "\n",
    "# Step 4: Get coefficients and feature importance\n",
    "coefficients = model.coef_[0]\n",
    "feature_importance = pd.Series(coefficients, index=X.columns)\n",
    "\n",
    "# Step 5: Sort features by importance (absolute value)\n",
    "important_features = feature_importance.abs().sort_values(ascending=False)\n",
    "\n",
    "# Step 6: Print top features\n",
    "print(\"Top Important Features in Logistic Regression:\")\n",
    "print(important_features.head(10))\n"
   ]
  },
  {
   "cell_type": "code",
   "execution_count": 33,
   "id": "b9ec562f-8607-4c6d-b6d7-36730a7a72db",
   "metadata": {},
   "outputs": [
    {
     "name": "stdout",
     "output_type": "stream",
     "text": [
      "Cohen’s Kappa Score: 0.91\n"
     ]
    }
   ],
   "source": [
    "# 19.Write a Python program to train Logistic Regression and evaluate its performance using Cohen’s Kappa\n",
    "from sklearn.datasets import load_breast_cancer\n",
    "from sklearn.linear_model import LogisticRegression\n",
    "from sklearn.model_selection import train_test_split\n",
    "from sklearn.metrics import cohen_kappa_score\n",
    "\n",
    "# Step 1: Load dataset\n",
    "data = load_breast_cancer()\n",
    "X = data.data\n",
    "y = data.target\n",
    "\n",
    "# Step 2: Train-test split\n",
    "X_train, X_test, y_train, y_test = train_test_split(X, y, test_size=0.2, random_state=42)\n",
    "\n",
    "# Step 3: Train Logistic Regression\n",
    "model = LogisticRegression(max_iter=1000)\n",
    "model.fit(X_train, y_train)\n",
    "\n",
    "# Step 4: Predict\n",
    "y_pred = model.predict(X_test)\n",
    "\n",
    "# Step 5: Evaluate using Cohen’s Kappa Score\n",
    "kappa_score = cohen_kappa_score(y_test, y_pred)\n",
    "print(f\"Cohen’s Kappa Score: {kappa_score:.2f}\")\n"
   ]
  },
  {
   "cell_type": "code",
   "execution_count": 34,
   "id": "ba9091cd-26cf-4f3c-b600-e3296da4e43d",
   "metadata": {},
   "outputs": [
    {
     "data": {
      "image/png": "[encoded data removed]",
      "text/plain": [
       "<Figure size 600x400 with 1 Axes>"
      ]
     },
     "metadata": {},
     "output_type": "display_data"
    }
   ],
   "source": [
    "# 20.Write a Python program to train Logistic Regression and visualize the Precision-Recall Curve for binary classification:\n",
    "import matplotlib.pyplot as plt\n",
    "from sklearn.datasets import load_breast_cancer\n",
    "from sklearn.linear_model import LogisticRegression\n",
    "from sklearn.model_selection import train_test_split\n",
    "from sklearn.metrics import precision_recall_curve, average_precision_score\n",
    "\n",
    "# Step 1: Load binary classification dataset\n",
    "data = load_breast_cancer()\n",
    "X = data.data\n",
    "y = data.target\n",
    "\n",
    "# Step 2: Train-test split\n",
    "X_train, X_test, y_train, y_test = train_test_split(X, y, test_size=0.2, random_state=42)\n",
    "\n",
    "# Step 3: Train Logistic Regression\n",
    "model = LogisticRegression(max_iter=1000)\n",
    "model.fit(X_train, y_train)\n",
    "\n",
    "# Step 4: Predict probabilities\n",
    "y_scores = model.predict_proba(X_test)[:, 1]  # Probability of class 1\n",
    "\n",
    "# Step 5: Compute Precision-Recall values\n",
    "precision, recall, thresholds = precision_recall_curve(y_test, y_scores)\n",
    "avg_precision = average_precision_score(y_test, y_scores)\n",
    "\n",
    "# Step 6: Plot Precision-Recall curve\n",
    "plt.figure(figsize=(6, 4))\n",
    "plt.plot(recall, precision, label=f'AP = {avg_precision:.2f}', color='blue')\n",
    "plt.xlabel('Recall')\n",
    "plt.ylabel('Precision')\n",
    "plt.title('Precision-Recall Curve')\n",
    "plt.legend()\n",
    "plt.grid(True)\n",
    "plt.tight_layout()\n",
    "plt.show()\n"
   ]
  },
  {
   "cell_type": "code",
   "execution_count": 35,
   "id": "0780f639-b8ad-4020-8e60-07f7e3f35852",
   "metadata": {},
   "outputs": [
    {
     "name": "stdout",
     "output_type": "stream",
     "text": [
      "=== Solver Accuracy Comparison ===\n",
      "liblinear: 95.61%\n",
      "saga: 96.49%\n",
      "lbfgs: 95.61%\n"
     ]
    }
   ],
   "source": [
    "# 21.Write a Python program to train Logistic Regression with different solvers (liblinear, saga, lbfgs) and compare their accuracy\n",
    "from sklearn.datasets import load_breast_cancer\n",
    "from sklearn.linear_model import LogisticRegression\n",
    "from sklearn.model_selection import train_test_split\n",
    "from sklearn.metrics import accuracy_score\n",
    "\n",
    "# Step 1: Load dataset\n",
    "data = load_breast_cancer()\n",
    "X = data.data\n",
    "y = data.target\n",
    "\n",
    "# Step 2: Split into training and testing sets\n",
    "X_train, X_test, y_train, y_test = train_test_split(X, y, test_size=0.2, random_state=42)\n",
    "\n",
    "# Step 3: Define solvers to compare\n",
    "solvers = ['liblinear', 'saga', 'lbfgs']\n",
    "results = {}\n",
    "\n",
    "# Step 4: Train and evaluate models using different solvers\n",
    "for solver in solvers:\n",
    "    model = LogisticRegression(solver=solver, max_iter=1000)\n",
    "    model.fit(X_train, y_train)\n",
    "    y_pred = model.predict(X_test)\n",
    "    accuracy = accuracy_score(y_test, y_pred)\n",
    "    results[solver] = accuracy\n",
    "\n",
    "# Step 5: Print accuracy comparison\n",
    "print(\"=== Solver Accuracy Comparison ===\")\n",
    "for solver, acc in results.items():\n",
    "    print(f\"{solver}: {acc * 100:.2f}%\")\n",
    "\n"
   ]
  },
  {
   "cell_type": "code",
   "execution_count": 36,
   "id": "8623f934-a018-4ebb-bb6b-185183a6a503",
   "metadata": {},
   "outputs": [
    {
     "name": "stdout",
     "output_type": "stream",
     "text": [
      "Matthews Correlation Coefficient (MCC): 0.91\n"
     ]
    }
   ],
   "source": [
    "# 22.Write a Python program to train Logistic Regression and evaluate its performance using Matthews Correlation Coefficient (MCC)\n",
    "from sklearn.datasets import load_breast_cancer\n",
    "from sklearn.linear_model import LogisticRegression\n",
    "from sklearn.model_selection import train_test_split\n",
    "from sklearn.metrics import matthews_corrcoef\n",
    "\n",
    "# Step 1: Load dataset\n",
    "data = load_breast_cancer()\n",
    "X = data.data\n",
    "y = data.target\n",
    "\n",
    "# Step 2: Split into train and test sets\n",
    "X_train, X_test, y_train, y_test = train_test_split(X, y, test_size=0.2, random_state=42)\n",
    "\n",
    "# Step 3: Train Logistic Regression model\n",
    "model = LogisticRegression(max_iter=1000)\n",
    "model.fit(X_train, y_train)\n",
    "\n",
    "# Step 4: Predict\n",
    "y_pred = model.predict(X_test)\n",
    "\n",
    "# Step 5: Evaluate using Matthews Correlation Coefficient\n",
    "mcc = matthews_corrcoef(y_test, y_pred)\n",
    "\n",
    "# Step 6: Print result\n",
    "print(f\"Matthews Correlation Coefficient (MCC): {mcc:.2f}\")\n",
    "\n"
   ]
  },
  {
   "cell_type": "code",
   "execution_count": 37,
   "id": "0e6f9327-a581-4be8-89ba-d5e863c5e060",
   "metadata": {},
   "outputs": [
    {
     "name": "stdout",
     "output_type": "stream",
     "text": [
      "Accuracy on Raw Data:         95.61%\n",
      "Accuracy on Standardized Data: 97.37%\n"
     ]
    }
   ],
   "source": [
    "# 23.Write a Python program to train Logistic Regression on both raw and standardized data. Compare their accuracy to see the impact of feature scaling\n",
    "from sklearn.datasets import load_breast_cancer\n",
    "from sklearn.linear_model import LogisticRegression\n",
    "from sklearn.model_selection import train_test_split\n",
    "from sklearn.preprocessing import StandardScaler\n",
    "from sklearn.metrics import accuracy_score\n",
    "\n",
    "# Step 1: Load dataset\n",
    "data = load_breast_cancer()\n",
    "X = data.data\n",
    "y = data.target\n",
    "\n",
    "# Step 2: Split data into train and test sets\n",
    "X_train_raw, X_test_raw, y_train, y_test = train_test_split(X, y, test_size=0.2, random_state=42)\n",
    "\n",
    "# Step 3: Train Logistic Regression on raw data\n",
    "model_raw = LogisticRegression(max_iter=1000)\n",
    "model_raw.fit(X_train_raw, y_train)\n",
    "y_pred_raw = model_raw.predict(X_test_raw)\n",
    "accuracy_raw = accuracy_score(y_test, y_pred_raw)\n",
    "\n",
    "# Step 4: Standardize the data\n",
    "scaler = StandardScaler()\n",
    "X_train_scaled = scaler.fit_transform(X_train_raw)\n",
    "X_test_scaled = scaler.transform(X_test_raw)\n",
    "\n",
    "# Step 5: Train Logistic Regression on standardized data\n",
    "model_scaled = LogisticRegression(max_iter=1000)\n",
    "model_scaled.fit(X_train_scaled, y_train)\n",
    "y_pred_scaled = model_scaled.predict(X_test_scaled)\n",
    "accuracy_scaled = accuracy_score(y_test, y_pred_scaled)\n",
    "\n",
    "# Step 6: Compare and print results\n",
    "print(f\"Accuracy on Raw Data:         {accuracy_raw * 100:.2f}%\")\n",
    "print(f\"Accuracy on Standardized Data: {accuracy_scaled * 100:.2f}%\")\n"
   ]
  },
  {
   "cell_type": "code",
   "execution_count": 38,
   "id": "b32fb006-db66-4204-a2f3-dcfd3148b9ef",
   "metadata": {},
   "outputs": [
    {
     "name": "stdout",
     "output_type": "stream",
     "text": [
      "Best C (Regularization Strength): 166.81005372000558\n",
      "Accuracy with Best C: 95.61%\n"
     ]
    }
   ],
   "source": [
    "# 24. Write a Python program to train Logistic Regression and find the optimal C (regularization strength) using cross-validation\n",
    "import numpy as np\n",
    "from sklearn.datasets import load_breast_cancer\n",
    "from sklearn.linear_model import LogisticRegression\n",
    "from sklearn.model_selection import GridSearchCV, train_test_split\n",
    "from sklearn.metrics import accuracy_score\n",
    "\n",
    "# Step 1: Load dataset\n",
    "data = load_breast_cancer()\n",
    "X = data.data\n",
    "y = data.target\n",
    "\n",
    "# Step 2: Split into training and testing sets\n",
    "X_train, X_test, y_train, y_test = train_test_split(X, y, test_size=0.2, random_state=42)\n",
    "\n",
    "# Step 3: Define range of C values to try\n",
    "param_grid = {'C': np.logspace(-4, 4, 10)}  # e.g., [1e-4, 1e-3, ..., 1e4]\n",
    "\n",
    "# Step 4: Apply GridSearchCV to find best C using cross-validation\n",
    "grid_search = GridSearchCV(LogisticRegression(max_iter=1000), param_grid, cv=5, scoring='accuracy')\n",
    "grid_search.fit(X_train, y_train)\n",
    "\n",
    "# Step 5: Predict using best model\n",
    "best_model = grid_search.best_estimator_\n",
    "y_pred = best_model.predict(X_test)\n",
    "\n",
    "# Step 6: Output results\n",
    "print(\"Best C (Regularization Strength):\", grid_search.best_params_['C'])\n",
    "print(f\"Accuracy with Best C: {accuracy_score(y_test, y_pred) * 100:.2f}%\")\n"
   ]
  },
  {
   "cell_type": "code",
   "execution_count": 39,
   "id": "8f6d6523-7e61-4c7f-9796-c886c92d5ffa",
   "metadata": {},
   "outputs": [
    {
     "name": "stdout",
     "output_type": "stream",
     "text": [
      "Model saved to 'logistic_model.pkl'\n",
      "Model loaded from 'logistic_model.pkl'\n",
      "Accuracy of Loaded Model: 95.61%\n"
     ]
    }
   ],
   "source": [
    "# 25.Write a Python program to train Logistic Regression, save the trained model using joblib, and load it again to make predictions.\n",
    "import joblib\n",
    "from sklearn.datasets import load_breast_cancer\n",
    "from sklearn.linear_model import LogisticRegression\n",
    "from sklearn.model_selection import train_test_split\n",
    "from sklearn.metrics import accuracy_score\n",
    "\n",
    "# Step 1: Load dataset\n",
    "data = load_breast_cancer()\n",
    "X = data.data\n",
    "y = data.target\n",
    "\n",
    "# Step 2: Split into train-test sets\n",
    "X_train, X_test, y_train, y_test = train_test_split(X, y, test_size=0.2, random_state=42)\n",
    "\n",
    "# Step 3: Train Logistic Regression model\n",
    "model = LogisticRegression(max_iter=1000)\n",
    "model.fit(X_train, y_train)\n",
    "\n",
    "# Step 4: Save model using joblib\n",
    "joblib.dump(model, 'logistic_model.pkl')\n",
    "print(\"Model saved to 'logistic_model.pkl'\")\n",
    "\n",
    "# Step 5: Load model\n",
    "loaded_model = joblib.load('logistic_model.pkl')\n",
    "print(\"Model loaded from 'logistic_model.pkl'\")\n",
    "\n",
    "# Step 6: Predict and evaluate\n",
    "y_pred = loaded_model.predict(X_test)\n",
    "accuracy = accuracy_score(y_test, y_pred)\n",
    "print(f\"Accuracy of Loaded Model: {accuracy * 100:.2f}%\")\n"
   ]
  }
 ],
 "metadata": {
  "kernelspec": {
   "display_name": "Python 3 (ipykernel)",
   "language": "python",
   "name": "python3"
  },
  "language_info": {
   "codemirror_mode": {
    "name": "ipython",
    "version": 3
   },
   "file_extension": ".py",
   "mimetype": "text/x-python",
   "name": "python",
   "nbconvert_exporter": "python",
   "pygments_lexer": "ipython3",
   "version": "3.12.6"
  }
 },
 "nbformat": 4,
 "nbformat_minor": 5
}
